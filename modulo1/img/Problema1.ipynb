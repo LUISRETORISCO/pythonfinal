{
 "cells": [
  {
   "cell_type": "markdown",
   "source": [
    "# Hello"
   ],
   "metadata": {}
  },
  {
   "cell_type": "markdown",
   "source": [
    "Implemente un programa que imprima un saludo simple para el usuario, como se indica a continuación."
   ],
   "metadata": {}
  },
  {
   "cell_type": "markdown",
   "source": [
    "<img src='./img/ejercicio1.PNG'>\n",
    "<!-- \"C:\\Users\\gdelgadr\\Desktop\\JoinProcess\\PYTHON-FUNDAMENTOS-JOINPROCESS\\Modulo1\\Ejercicios\\img\\ejercicio1.PNG\" -->"
   ],
   "metadata": {}
  },
  {
   "cell_type": "markdown",
   "source": [
    "## Especificaciones"
   ],
   "metadata": {}
  },
  {
   "cell_type": "markdown",
   "source": [
    "Genere un archivo llamado <b>hello.py</b> , el cual contendrá un programa que solicita al usuario su nombre, y luego imprima <b>hello, \"nombre\" </b> , donde \"nombre\" es el nombre proporcionado."
   ],
   "metadata": {}
  },
  {
   "cell_type": "markdown",
   "source": [
    "## Uso"
   ],
   "metadata": {}
  },
  {
   "cell_type": "markdown",
   "source": [
    "Ejecute su programa como python hello.py y espere a que se le solicite la entrada. Escribe Emma y presiona enter. Su programa debería generar hello, Emma."
   ],
   "metadata": {}
  },
  {
   "cell_type": "markdown",
   "source": [
    "<img src='./img/ejercicio1.PNG'>\n",
    "<!-- \"C:\\Users\\gdelgadr\\Desktop\\JoinProcess\\PYTHON-FUNDAMENTOS-JOINPROCESS\\Modulo1\\Ejercicios\\img\\ejercicio1.PNG\" -->"
   ],
   "metadata": {}
  },
  {
   "cell_type": "markdown",
   "source": [
    "## Pruebas"
   ],
   "metadata": {}
  },
  {
   "cell_type": "markdown",
   "source": [
    "Asegúrese de probar su código para cada uno de los siguientes.\n",
    "\n",
    "- Ejecute su programa como python hello.py y espere a que se le solicite la entrada. Escribe Emmay presiona enter. Su programa debería generar hello, Emma.\n",
    "- Ejecute su programa como python hello.py y espere a que se le solicite la entrada. Escribe Rodrigoy presiona enter. Su programa debería generar hello, Rodrigo."
   ],
   "metadata": {}
  },
  {
   "cell_type": "code",
   "execution_count": null,
   "source": [
    "print(\"como te llamas\")\r\n",
    "nombre = input()\r\n",
    "print(f\"hello {nombre}\")"
   ],
   "outputs": [],
   "metadata": {}
  }
 ],
 "metadata": {
  "kernelspec": {
   "display_name": "Python 3",
   "language": "python",
   "name": "python3"
  },
  "language_info": {
   "codemirror_mode": {
    "name": "ipython",
    "version": 3
   },
   "file_extension": ".py",
   "mimetype": "text/x-python",
   "name": "python",
   "nbconvert_exporter": "python",
   "pygments_lexer": "ipython3",
   "version": "3.8.8"
  }
 },
 "nbformat": 4,
 "nbformat_minor": 4
}