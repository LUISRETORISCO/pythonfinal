{
 "cells": [
  {
   "cell_type": "markdown",
   "source": [
    "# PROBLEMAS DIVERSOS"
   ],
   "metadata": {}
  },
  {
   "cell_type": "markdown",
   "source": [
    "<h3>1.</h3>\n",
    "Realizar una función que permita la carga de n alumnos. Por cada alumno se deberá preguntar el nombre completo y permitir el ingreso de 3 notas. Las notas deben estar comprendidas entre 0 y 10. Devolver el listado de alumnos."
   ],
   "metadata": {}
  },
  {
   "cell_type": "code",
   "execution_count": null,
   "source": [],
   "outputs": [],
   "metadata": {}
  },
  {
   "cell_type": "markdown",
   "source": [
    "### 2.\n",
    "Definir una función que dado un listado de alumnos evalúe cuántos aprobaron y cuántos desaprobaron, teniendo en cuenta que se aprueba con 4. La nota será el promedio de las 3 notas para cada alumno."
   ],
   "metadata": {}
  },
  {
   "cell_type": "code",
   "execution_count": null,
   "source": [],
   "outputs": [],
   "metadata": {}
  },
  {
   "cell_type": "markdown",
   "source": [
    "### 3.\n",
    "Informar el promedio de nota del curso total."
   ],
   "metadata": {}
  },
  {
   "cell_type": "code",
   "execution_count": null,
   "source": [],
   "outputs": [],
   "metadata": {}
  },
  {
   "cell_type": "code",
   "execution_count": null,
   "source": [],
   "outputs": [],
   "metadata": {}
  },
  {
   "cell_type": "markdown",
   "source": [
    "### 4.\n",
    "Realizar una función que indique quién tuvo el promedio más alto y quién tuvo la nota promedio más baja."
   ],
   "metadata": {}
  },
  {
   "cell_type": "code",
   "execution_count": null,
   "source": [],
   "outputs": [],
   "metadata": {}
  },
  {
   "cell_type": "code",
   "execution_count": null,
   "source": [],
   "outputs": [],
   "metadata": {}
  },
  {
   "cell_type": "code",
   "execution_count": null,
   "source": [],
   "outputs": [],
   "metadata": {}
  },
  {
   "cell_type": "markdown",
   "source": [
    "### 5.\n",
    "Realizar una función que permita buscar un alumno por nombre, siendo el nombre completo o parcial, y devuelva una lista con los n alumnos que concuerden con ese nombre junto con todos sus datos, incluido el promedio de sus notas."
   ],
   "metadata": {}
  },
  {
   "cell_type": "code",
   "execution_count": null,
   "source": [
    "def cargar_alumnos(cantidad):\r\n",
    "    lista_alumnos = []\r\n",
    "    # solicito n veces un alumno por teclado\r\n",
    "    for i in range(cantidad):\r\n",
    "        # dicx vacio\r\n",
    "        dicx_alumnos = {}\r\n",
    "    \r\n",
    "        # ingreso datos\r\n",
    "        dicx_alumnos['alumno'] = input(f'Ingrese el {i+1} alumno: ')\r\n",
    "    \r\n",
    "        nota1 = int(input('ingrese la nota 1: '))\r\n",
    "        nota2 = int(input('ingrese la nota 2: '))\r\n",
    "        nota3 = int(input('ingrese la nota 3: '))\r\n",
    "    \r\n",
    "        dicx_alumnos['notas'] = [nota1,nota2,nota3]\r\n",
    "    \r\n",
    "        # añado alumno a listado\r\n",
    "        lista_alumnos.append(dicx_alumnos)\r\n",
    "\r\n",
    "    return lista_alumnos\r\n",
    "\r\n",
    "def evaluacion(lista_alumnos):\r\n",
    "    aprobados = 0\r\n",
    "    for i in range(len(lista_alumnos)):\r\n",
    "        promedio = (lista_alumnos[i]['notas'][0] + lista_alumnos[i]['notas'][1] + lista_alumnos[i]['notas'][2])/3.00\r\n",
    "\r\n",
    "        if promedio >=4:\r\n",
    "            aprobados = aprobados + 1\r\n",
    "            print(\"aprobado: \" + lista_alumnos[i]['alumno'])\r\n",
    "        else:\r\n",
    "            print(\"jalado: \" + lista_alumnos[i]['alumno'])\r\n",
    "    return aprobados\r\n",
    "\r\n",
    "def mostrar_alumnos(lista_alumnos):\r\n",
    "    for alumno in lista_alumnos:\r\n",
    "        print(alumno['alumno'])\r\n",
    "\r\n",
    "def promedio_curso(lista_alumnos):\r\n",
    "    suma = 0\r\n",
    "    for i in range(len(lista_alumnos)):\r\n",
    "        promedio = (lista_alumnos[i]['notas'][0] + lista_alumnos[i]['notas'][1] + lista_alumnos[i]['notas'][2])/3.00\r\n",
    "        suma=suma+promedio\r\n",
    "    \r\n",
    "    return suma/len(lista_alumnos)\r\n",
    "\r\n",
    "def indicadores(lista_alumnos):\r\n",
    "    maximo = -1\r\n",
    "    minimo = 11\r\n",
    "    idx_max = 0\r\n",
    "    idx_min = 0\r\n",
    "    for i in range(len(lista_alumnos)):\r\n",
    "        promedio = (lista_alumnos[i]['notas'][0] + lista_alumnos[i]['notas'][1] + lista_alumnos[i]['notas'][2])/3.00\r\n",
    "\r\n",
    "        if promedio>maximo:\r\n",
    "            idx_max = i\r\n",
    "            maximo = promedio\r\n",
    "        if promedio<minimo:\r\n",
    "            idx_min = i\r\n",
    "            minimo = promedio\r\n",
    "            \r\n",
    "    print(\"Alumno promedio minimo: \"+ lista_alumnos[idx_min]['alumno'] + \" Promedio = \" + str(minimo))\r\n",
    "    print(\"Alumno promedio maximo: \"+ lista_alumnos[idx_max]['alumno'] + \" Promedio = \" + str(maximo))\r\n",
    "\r\n",
    "def buscar_por_nombre(nombre):\r\n",
    "    for i in range(len(lista_alumnos)):\r\n",
    "        if len(lista_alumnos[i]['alumno'].split(nombre)) > 1:\r\n",
    "            promedio = (lista_alumnos[i]['notas'][0] + lista_alumnos[i]['notas'][1] + lista_alumnos[i]['notas'][2])/3.00\r\n",
    "\r\n",
    "            print(\"Alumno: \" + lista_alumnos[i]['alumno'])\r\n",
    "            print(\"\\t nota1: \" + str(lista_alumnos[i]['notas'][0]))\r\n",
    "            print(\"\\t nota2: \" + str(lista_alumnos[i]['notas'][1]))\r\n",
    "            print(\"\\t nota3: \" + str(lista_alumnos[i]['notas'][2]))\r\n",
    "            print(\"\\t promedio: \" + str(promedio)+'\\n\\n')\r\n",
    "            \r\n",
    "\r\n",
    "#funcion principal\r\n",
    "cantidad = int(input(\"Ingrese la cantidad de alumnos a registrar : \"))\r\n",
    "lista_alumnos = cargar_alumnos(cantidad)\r\n",
    "mostrar_alumnos(lista_alumnos)\r\n",
    "aprobados = evaluacion(lista_alumnos)\r\n",
    "print(\"Total aprobados: \" + str(aprobados))\r\n",
    "prom_curso = promedio_curso(lista_alumnos)\r\n",
    "print(\"Promedio curso es : \" + str(prom_curso))\r\n",
    "indicadores(lista_alumnos)\r\n",
    "buscar_por_nombre('juan')"
   ],
   "outputs": [],
   "metadata": {}
  }
 ],
 "metadata": {
  "kernelspec": {
   "display_name": "Python 3",
   "language": "python",
   "name": "python3"
  },
  "language_info": {
   "codemirror_mode": {
    "name": "ipython",
    "version": 3
   },
   "file_extension": ".py",
   "mimetype": "text/x-python",
   "name": "python",
   "nbconvert_exporter": "python",
   "pygments_lexer": "ipython3",
   "version": "3.8.8"
  }
 },
 "nbformat": 4,
 "nbformat_minor": 4
}